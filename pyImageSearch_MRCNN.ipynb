{
  "nbformat": 4,
  "nbformat_minor": 0,
  "metadata": {
    "colab": {
      "name": "pyImageSearch_MRCNN.ipynb",
      "provenance": [],
      "collapsed_sections": [],
      "include_colab_link": true
    },
    "kernelspec": {
      "name": "python3",
      "display_name": "Python 3"
    },
    "accelerator": "GPU"
  },
  "cells": [
    {
      "cell_type": "markdown",
      "metadata": {
        "id": "view-in-github",
        "colab_type": "text"
      },
      "source": [
        "<a href=\"https://colab.research.google.com/github/askkvn/Keras-Mask-RCNN-Code-Tested/blob/master/pyImageSearch_MRCNN.ipynb\" target=\"_parent\"><img src=\"https://colab.research.google.com/assets/colab-badge.svg\" alt=\"Open In Colab\"/></a>"
      ]
    },
    {
      "cell_type": "markdown",
      "metadata": {
        "id": "qi8bp9PC9HIM",
        "colab_type": "text"
      },
      "source": [
        "#Reference From: [Keras Mask RCNN Code](https://www.pyimagesearch.com/2019/06/10/keras-mask-r-cnn/)\n",
        "\n",
        "#For more such awesome content check out [pyImageSearch](https://www.pyimagesearch.com)"
      ]
    },
    {
      "cell_type": "markdown",
      "metadata": {
        "id": "6t8Y27LC7NRj",
        "colab_type": "text"
      },
      "source": [
        "#Step1: Download PreTrained Model + codes"
      ]
    },
    {
      "cell_type": "code",
      "metadata": {
        "id": "vGolpDLQOMIT",
        "colab_type": "code",
        "colab": {}
      },
      "source": [
        "!wget https://t.dripemail2.com/c/eyJhY2NvdW50X2lkIjoiNDc2ODQyOSIsImRlbGl2ZXJ5X2lkIjoiODM2NzA3MTU1MSIsInVybCI6Imh0dHBzOi8vczMtdXMtd2VzdC0yLmFtYXpvbmF3cy5jb20vc3RhdGljLnB5aW1hZ2VzZWFyY2guY29tL2tlcmFzLW1hc2stcmNubi9rZXJhcy1tYXNrLXJjbm4uemlwP19fcz03YWk3ZHNpcWd3Z2dvdGRxZnpxeCJ9"
      ],
      "execution_count": 0,
      "outputs": []
    },
    {
      "cell_type": "markdown",
      "metadata": {
        "id": "y_k0EyGL7e1D",
        "colab_type": "text"
      },
      "source": [
        "#Step2: Unzip file\n",
        "\n",
        "Required input path:\n",
        "\n",
        "1.   Just downloaded zip file path\n",
        "2.   Destination unzip file path\n",
        "\n"
      ]
    },
    {
      "cell_type": "code",
      "metadata": {
        "id": "2Hv3RAj3Om_K",
        "colab_type": "code",
        "colab": {}
      },
      "source": [
        "import zipfile\n",
        "with zipfile.ZipFile('/content/eyJhY2NvdW50X2lkIjoiNDc2ODQyOSIsImRlbGl2ZXJ5X2lkIjoiODM2NzA3MTU1MSIsInVybCI6Imh0dHBzOi8vczMtdXMtd2VzdC0yLmFtYXpvbmF3cy5jb20vc3RhdGljLnB5aW1hZ2VzZWFyY2guY29tL2tlcmFzLW1hc2stcmNubi9rZXJhcy1tYXNrLXJjbm4uemlwP19fcz03YWk3ZHNpcWd3Z2dvdGRxZnpx', 'r') as zip_ref:\n",
        "    zip_ref.extractall('/content/')"
      ],
      "execution_count": 0,
      "outputs": []
    },
    {
      "cell_type": "markdown",
      "metadata": {
        "id": "WmGK1_Df7oUV",
        "colab_type": "text"
      },
      "source": [
        "#Step3: Clone matterport/Mask_RCNN repo"
      ]
    },
    {
      "cell_type": "code",
      "metadata": {
        "id": "0DPm4EniPXE5",
        "colab_type": "code",
        "colab": {}
      },
      "source": [
        "!git clone https://github.com/matterport/Mask_RCNN.git"
      ],
      "execution_count": 0,
      "outputs": []
    },
    {
      "cell_type": "code",
      "metadata": {
        "id": "ABKtOR1YREMQ",
        "colab_type": "code",
        "colab": {}
      },
      "source": [
        "%cd Mask_RCNN"
      ],
      "execution_count": 0,
      "outputs": []
    },
    {
      "cell_type": "markdown",
      "metadata": {
        "id": "f0CkeMt472yM",
        "colab_type": "text"
      },
      "source": [
        "#Step4: Installation of Mask_RCNN"
      ]
    },
    {
      "cell_type": "code",
      "metadata": {
        "id": "FSyi1u7_RJwW",
        "colab_type": "code",
        "colab": {}
      },
      "source": [
        "!python setup.py install"
      ],
      "execution_count": 0,
      "outputs": []
    },
    {
      "cell_type": "markdown",
      "metadata": {
        "id": "CAbB2CLZ8FCG",
        "colab_type": "text"
      },
      "source": [
        "#Step4.1 :Verify"
      ]
    },
    {
      "cell_type": "code",
      "metadata": {
        "id": "k70vHtWMpX5g",
        "colab_type": "code",
        "colab": {}
      },
      "source": [
        "!pip show mask-rcnn"
      ],
      "execution_count": 0,
      "outputs": []
    },
    {
      "cell_type": "markdown",
      "metadata": {
        "id": "x8WY3nwT8PRH",
        "colab_type": "text"
      },
      "source": [
        "#Step5: Run Prediction Code\n",
        "\n",
        "Required input path:\n",
        "\n",
        "1.   maskrcnn_predict.py\n",
        "2.   mask_rcnn_coco.h5\n",
        "3. coco_labels.txt\n",
        "4. input image (placed at /content/keras-mask-rcnn/images/)\n",
        "\n",
        "Output predicted image: pred.jpg (/content/pred.jpg)"
      ]
    },
    {
      "cell_type": "markdown",
      "metadata": {
        "id": "gevNBddM-VOD",
        "colab_type": "text"
      },
      "source": [
        "**Code modification** (/content/keras-mask-rcnn/maskrcnn_predict.py): Replace these last two lines\n",
        "\n",
        "\n",
        "```\n",
        "cv2.imshow(\"Output\", image)\n",
        "cv2.waitKey()\n",
        "```\n",
        "With these to store image: \n",
        "```\n",
        "cv2.imwrite('/content/pred.jpg',image)\n",
        "```\n",
        "\n"
      ]
    },
    {
      "cell_type": "code",
      "metadata": {
        "id": "m__q2NbTRlgU",
        "colab_type": "code",
        "colab": {}
      },
      "source": [
        "!python /content/keras-mask-rcnn/maskrcnn_predict.py --weights /content/keras-mask-rcnn/mask_rcnn_coco.h5 --labels /content/keras-mask-rcnn/coco_labels.txt \\\n",
        "\t--image /content/keras-mask-rcnn/images/trek3.jpg"
      ],
      "execution_count": 0,
      "outputs": []
    }
  ]
}